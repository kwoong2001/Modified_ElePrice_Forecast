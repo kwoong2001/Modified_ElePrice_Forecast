{
 "cells": [
  {
   "cell_type": "code",
   "execution_count": 37,
   "metadata": {},
   "outputs": [],
   "source": [
    "import pandas as pd\n",
    "import matplotlib.pyplot as plt\n",
    "import numpy as np\n",
    "\n",
    "from keras import Sequential\n",
    "from keras.layers import Dense, LSTM\n",
    "import tensorflow as tf\n",
    "import keras\n",
    "\n",
    "from sklearn.preprocessing import MinMaxScaler\n",
    "from sklearn.preprocessing import LabelEncoder\n",
    "from sklearn.metrics import mean_squared_error\n",
    "\n",
    "from sklearn.ensemble import RandomForestRegressor\n",
    "\n",
    "\n",
    "\n",
    "from keras.models import Sequential\n",
    "from keras.layers import Dense\n",
    "from keras.layers import LSTM\n",
    "from keras.layers import Conv1D, Conv2D, MaxPooling1D, Flatten\n",
    "from keras.layers import GRU\n",
    "\n",
    "import numpy as np\n"
   ]
  },
  {
   "cell_type": "code",
   "execution_count": 38,
   "metadata": {},
   "outputs": [],
   "source": [
    "\n",
    "df = pd.read_csv('re_fixed_multivariate_timeseires.csv')\n",
    "df.drop(df.loc[df['datetime'].duplicated()].index, inplace = True)\n",
    "df['datetime'] = pd.to_datetime(df['datetime'])\n",
    "\n",
    "# df = df.sort_values(df['datetime'], ascending=[True])\n",
    "\n",
    "\n",
    "df.set_index(df['datetime'], inplace = True)\n",
    "df.drop(columns = [ 'datetime'], inplace = True)"
   ]
  },
  {
   "cell_type": "code",
   "execution_count": 39,
   "metadata": {},
   "outputs": [],
   "source": [
    "def table2lags(table, max_lag, min_lag=0, separator='_'):\n",
    "    \"\"\" Given a dataframe, return a dataframe with different lags of all its columns \"\"\"\n",
    "    values=[]\n",
    "    for i in range(min_lag, max_lag + 1):\n",
    "        values.append(table.shift(i).copy())\n",
    "        values[-1].columns = [c + separator + str(i) for c in table.columns]\n",
    "    return pd.concat(values, axis=1)"
   ]
  },
  {
   "cell_type": "code",
   "execution_count": 40,
   "metadata": {},
   "outputs": [
    {
     "data": {
      "text/html": [
       "<div>\n",
       "<style scoped>\n",
       "    .dataframe tbody tr th:only-of-type {\n",
       "        vertical-align: middle;\n",
       "    }\n",
       "\n",
       "    .dataframe tbody tr th {\n",
       "        vertical-align: top;\n",
       "    }\n",
       "\n",
       "    .dataframe thead th {\n",
       "        text-align: right;\n",
       "    }\n",
       "</style>\n",
       "<table border=\"1\" class=\"dataframe\">\n",
       "  <thead>\n",
       "    <tr style=\"text-align: right;\">\n",
       "      <th></th>\n",
       "      <th>GBP/mWh</th>\n",
       "      <th>temperature</th>\n",
       "      <th>coal Price</th>\n",
       "      <th>oil Price</th>\n",
       "      <th>uranium Price</th>\n",
       "      <th>natural gas Price</th>\n",
       "    </tr>\n",
       "    <tr>\n",
       "      <th>datetime</th>\n",
       "      <th></th>\n",
       "      <th></th>\n",
       "      <th></th>\n",
       "      <th></th>\n",
       "      <th></th>\n",
       "      <th></th>\n",
       "    </tr>\n",
       "  </thead>\n",
       "  <tbody>\n",
       "    <tr>\n",
       "      <td>2013-01-01 01:00:00</td>\n",
       "      <td>37.76</td>\n",
       "      <td>48.48</td>\n",
       "      <td>95.59</td>\n",
       "      <td>111.11</td>\n",
       "      <td>43.5</td>\n",
       "      <td>3.351</td>\n",
       "    </tr>\n",
       "    <tr>\n",
       "      <td>2013-01-01 02:00:00</td>\n",
       "      <td>30.01</td>\n",
       "      <td>48.30</td>\n",
       "      <td>95.59</td>\n",
       "      <td>111.11</td>\n",
       "      <td>43.5</td>\n",
       "      <td>3.351</td>\n",
       "    </tr>\n",
       "    <tr>\n",
       "      <td>2013-01-01 03:00:00</td>\n",
       "      <td>21.98</td>\n",
       "      <td>46.40</td>\n",
       "      <td>95.59</td>\n",
       "      <td>111.11</td>\n",
       "      <td>43.5</td>\n",
       "      <td>3.351</td>\n",
       "    </tr>\n",
       "    <tr>\n",
       "      <td>2013-01-01 04:00:00</td>\n",
       "      <td>18.06</td>\n",
       "      <td>45.40</td>\n",
       "      <td>95.59</td>\n",
       "      <td>111.11</td>\n",
       "      <td>43.5</td>\n",
       "      <td>3.351</td>\n",
       "    </tr>\n",
       "    <tr>\n",
       "      <td>2013-01-01 05:00:00</td>\n",
       "      <td>18.06</td>\n",
       "      <td>44.44</td>\n",
       "      <td>95.59</td>\n",
       "      <td>111.11</td>\n",
       "      <td>43.5</td>\n",
       "      <td>3.351</td>\n",
       "    </tr>\n",
       "  </tbody>\n",
       "</table>\n",
       "</div>"
      ],
      "text/plain": [
       "                     GBP/mWh  temperature  coal Price  oil Price  \\\n",
       "datetime                                                           \n",
       "2013-01-01 01:00:00    37.76        48.48       95.59     111.11   \n",
       "2013-01-01 02:00:00    30.01        48.30       95.59     111.11   \n",
       "2013-01-01 03:00:00    21.98        46.40       95.59     111.11   \n",
       "2013-01-01 04:00:00    18.06        45.40       95.59     111.11   \n",
       "2013-01-01 05:00:00    18.06        44.44       95.59     111.11   \n",
       "\n",
       "                     uranium Price  natural gas Price  \n",
       "datetime                                               \n",
       "2013-01-01 01:00:00           43.5              3.351  \n",
       "2013-01-01 02:00:00           43.5              3.351  \n",
       "2013-01-01 03:00:00           43.5              3.351  \n",
       "2013-01-01 04:00:00           43.5              3.351  \n",
       "2013-01-01 05:00:00           43.5              3.351  "
      ]
     },
     "execution_count": 40,
     "metadata": {},
     "output_type": "execute_result"
    }
   ],
   "source": [
    "df.head()"
   ]
  },
  {
   "cell_type": "code",
   "execution_count": 41,
   "metadata": {},
   "outputs": [],
   "source": [
    "df_lagged = table2lags(df, 168, 24)"
   ]
  },
  {
   "cell_type": "code",
   "execution_count": 42,
   "metadata": {},
   "outputs": [
    {
     "data": {
      "text/plain": [
       "Index(['GBP/mWh_24', 'temperature_24', 'coal Price_24', 'oil Price_24',\n",
       "       'uranium Price_24', 'natural gas Price_24', 'GBP/mWh_25',\n",
       "       'temperature_25', 'coal Price_25', 'oil Price_25',\n",
       "       ...\n",
       "       'coal Price_167', 'oil Price_167', 'uranium Price_167',\n",
       "       'natural gas Price_167', 'GBP/mWh_168', 'temperature_168',\n",
       "       'coal Price_168', 'oil Price_168', 'uranium Price_168',\n",
       "       'natural gas Price_168'],\n",
       "      dtype='object', length=870)"
      ]
     },
     "execution_count": 42,
     "metadata": {},
     "output_type": "execute_result"
    }
   ],
   "source": [
    "df_lagged.columns"
   ]
  },
  {
   "cell_type": "code",
   "execution_count": 43,
   "metadata": {},
   "outputs": [
    {
     "data": {
      "text/plain": [
       "(61326, 870)"
      ]
     },
     "execution_count": 43,
     "metadata": {},
     "output_type": "execute_result"
    }
   ],
   "source": [
    "df_lagged.shape"
   ]
  },
  {
   "cell_type": "code",
   "execution_count": 44,
   "metadata": {},
   "outputs": [],
   "source": [
    "x_train = df_lagged[168:43800]\n",
    "x_valid = df_lagged[43800:52560]\n",
    "x_test = df_lagged[52560:]"
   ]
  },
  {
   "cell_type": "code",
   "execution_count": 105,
   "metadata": {},
   "outputs": [],
   "source": [
    "y_train = df['GBP/mWh'][168:43800]\n",
    "y_valid = df['GBP/mWh'][43800:52560]\n",
    "y_test = df['GBP/mWh'][52560:]"
   ]
  },
  {
   "cell_type": "code",
   "execution_count": 46,
   "metadata": {},
   "outputs": [
    {
     "data": {
      "text/html": [
       "<div>\n",
       "<style scoped>\n",
       "    .dataframe tbody tr th:only-of-type {\n",
       "        vertical-align: middle;\n",
       "    }\n",
       "\n",
       "    .dataframe tbody tr th {\n",
       "        vertical-align: top;\n",
       "    }\n",
       "\n",
       "    .dataframe thead th {\n",
       "        text-align: right;\n",
       "    }\n",
       "</style>\n",
       "<table border=\"1\" class=\"dataframe\">\n",
       "  <thead>\n",
       "    <tr style=\"text-align: right;\">\n",
       "      <th></th>\n",
       "      <th>GBP/mWh_24</th>\n",
       "      <th>temperature_24</th>\n",
       "      <th>coal Price_24</th>\n",
       "      <th>oil Price_24</th>\n",
       "      <th>uranium Price_24</th>\n",
       "      <th>natural gas Price_24</th>\n",
       "      <th>GBP/mWh_25</th>\n",
       "      <th>temperature_25</th>\n",
       "      <th>coal Price_25</th>\n",
       "      <th>oil Price_25</th>\n",
       "      <th>...</th>\n",
       "      <th>coal Price_167</th>\n",
       "      <th>oil Price_167</th>\n",
       "      <th>uranium Price_167</th>\n",
       "      <th>natural gas Price_167</th>\n",
       "      <th>GBP/mWh_168</th>\n",
       "      <th>temperature_168</th>\n",
       "      <th>coal Price_168</th>\n",
       "      <th>oil Price_168</th>\n",
       "      <th>uranium Price_168</th>\n",
       "      <th>natural gas Price_168</th>\n",
       "    </tr>\n",
       "    <tr>\n",
       "      <th>datetime</th>\n",
       "      <th></th>\n",
       "      <th></th>\n",
       "      <th></th>\n",
       "      <th></th>\n",
       "      <th></th>\n",
       "      <th></th>\n",
       "      <th></th>\n",
       "      <th></th>\n",
       "      <th></th>\n",
       "      <th></th>\n",
       "      <th></th>\n",
       "      <th></th>\n",
       "      <th></th>\n",
       "      <th></th>\n",
       "      <th></th>\n",
       "      <th></th>\n",
       "      <th></th>\n",
       "      <th></th>\n",
       "      <th></th>\n",
       "      <th></th>\n",
       "      <th></th>\n",
       "    </tr>\n",
       "  </thead>\n",
       "  <tbody>\n",
       "    <tr>\n",
       "      <td>2018-12-31 14:00:00</td>\n",
       "      <td>60.96</td>\n",
       "      <td>51.68</td>\n",
       "      <td>98.35</td>\n",
       "      <td>52.2</td>\n",
       "      <td>28.7</td>\n",
       "      <td>3.303</td>\n",
       "      <td>57.40</td>\n",
       "      <td>50.46</td>\n",
       "      <td>98.35</td>\n",
       "      <td>52.2</td>\n",
       "      <td>...</td>\n",
       "      <td>98.75</td>\n",
       "      <td>53.82</td>\n",
       "      <td>28.6</td>\n",
       "      <td>3.816</td>\n",
       "      <td>57.80</td>\n",
       "      <td>46.43</td>\n",
       "      <td>98.75</td>\n",
       "      <td>53.82</td>\n",
       "      <td>28.6</td>\n",
       "      <td>3.816</td>\n",
       "    </tr>\n",
       "    <tr>\n",
       "      <td>2018-12-31 15:00:00</td>\n",
       "      <td>53.80</td>\n",
       "      <td>51.75</td>\n",
       "      <td>98.35</td>\n",
       "      <td>52.2</td>\n",
       "      <td>28.7</td>\n",
       "      <td>3.303</td>\n",
       "      <td>60.96</td>\n",
       "      <td>51.68</td>\n",
       "      <td>98.35</td>\n",
       "      <td>52.2</td>\n",
       "      <td>...</td>\n",
       "      <td>98.75</td>\n",
       "      <td>53.82</td>\n",
       "      <td>28.6</td>\n",
       "      <td>3.816</td>\n",
       "      <td>67.95</td>\n",
       "      <td>46.30</td>\n",
       "      <td>98.75</td>\n",
       "      <td>53.82</td>\n",
       "      <td>28.6</td>\n",
       "      <td>3.816</td>\n",
       "    </tr>\n",
       "    <tr>\n",
       "      <td>2018-12-31 16:00:00</td>\n",
       "      <td>78.00</td>\n",
       "      <td>50.05</td>\n",
       "      <td>98.35</td>\n",
       "      <td>52.2</td>\n",
       "      <td>28.7</td>\n",
       "      <td>3.303</td>\n",
       "      <td>53.80</td>\n",
       "      <td>51.75</td>\n",
       "      <td>98.35</td>\n",
       "      <td>52.2</td>\n",
       "      <td>...</td>\n",
       "      <td>98.75</td>\n",
       "      <td>53.82</td>\n",
       "      <td>28.6</td>\n",
       "      <td>3.816</td>\n",
       "      <td>86.00</td>\n",
       "      <td>43.20</td>\n",
       "      <td>98.75</td>\n",
       "      <td>53.82</td>\n",
       "      <td>28.6</td>\n",
       "      <td>3.816</td>\n",
       "    </tr>\n",
       "    <tr>\n",
       "      <td>2018-12-31 17:00:00</td>\n",
       "      <td>92.00</td>\n",
       "      <td>50.33</td>\n",
       "      <td>98.35</td>\n",
       "      <td>52.2</td>\n",
       "      <td>28.7</td>\n",
       "      <td>3.303</td>\n",
       "      <td>78.00</td>\n",
       "      <td>50.05</td>\n",
       "      <td>98.35</td>\n",
       "      <td>52.2</td>\n",
       "      <td>...</td>\n",
       "      <td>98.75</td>\n",
       "      <td>53.82</td>\n",
       "      <td>28.6</td>\n",
       "      <td>3.816</td>\n",
       "      <td>99.00</td>\n",
       "      <td>40.75</td>\n",
       "      <td>98.75</td>\n",
       "      <td>53.82</td>\n",
       "      <td>28.6</td>\n",
       "      <td>3.816</td>\n",
       "    </tr>\n",
       "    <tr>\n",
       "      <td>2018-12-31 18:00:00</td>\n",
       "      <td>78.00</td>\n",
       "      <td>50.46</td>\n",
       "      <td>98.35</td>\n",
       "      <td>52.2</td>\n",
       "      <td>28.7</td>\n",
       "      <td>3.303</td>\n",
       "      <td>92.00</td>\n",
       "      <td>50.33</td>\n",
       "      <td>98.35</td>\n",
       "      <td>52.2</td>\n",
       "      <td>...</td>\n",
       "      <td>98.75</td>\n",
       "      <td>53.82</td>\n",
       "      <td>28.6</td>\n",
       "      <td>3.816</td>\n",
       "      <td>80.00</td>\n",
       "      <td>38.67</td>\n",
       "      <td>98.75</td>\n",
       "      <td>53.82</td>\n",
       "      <td>28.6</td>\n",
       "      <td>3.816</td>\n",
       "    </tr>\n",
       "  </tbody>\n",
       "</table>\n",
       "<p>5 rows × 870 columns</p>\n",
       "</div>"
      ],
      "text/plain": [
       "                     GBP/mWh_24  temperature_24  coal Price_24  oil Price_24  \\\n",
       "datetime                                                                       \n",
       "2018-12-31 14:00:00       60.96           51.68          98.35          52.2   \n",
       "2018-12-31 15:00:00       53.80           51.75          98.35          52.2   \n",
       "2018-12-31 16:00:00       78.00           50.05          98.35          52.2   \n",
       "2018-12-31 17:00:00       92.00           50.33          98.35          52.2   \n",
       "2018-12-31 18:00:00       78.00           50.46          98.35          52.2   \n",
       "\n",
       "                     uranium Price_24  natural gas Price_24  GBP/mWh_25  \\\n",
       "datetime                                                                  \n",
       "2018-12-31 14:00:00              28.7                 3.303       57.40   \n",
       "2018-12-31 15:00:00              28.7                 3.303       60.96   \n",
       "2018-12-31 16:00:00              28.7                 3.303       53.80   \n",
       "2018-12-31 17:00:00              28.7                 3.303       78.00   \n",
       "2018-12-31 18:00:00              28.7                 3.303       92.00   \n",
       "\n",
       "                     temperature_25  coal Price_25  oil Price_25  ...  \\\n",
       "datetime                                                          ...   \n",
       "2018-12-31 14:00:00           50.46          98.35          52.2  ...   \n",
       "2018-12-31 15:00:00           51.68          98.35          52.2  ...   \n",
       "2018-12-31 16:00:00           51.75          98.35          52.2  ...   \n",
       "2018-12-31 17:00:00           50.05          98.35          52.2  ...   \n",
       "2018-12-31 18:00:00           50.33          98.35          52.2  ...   \n",
       "\n",
       "                     coal Price_167  oil Price_167  uranium Price_167  \\\n",
       "datetime                                                                \n",
       "2018-12-31 14:00:00           98.75          53.82               28.6   \n",
       "2018-12-31 15:00:00           98.75          53.82               28.6   \n",
       "2018-12-31 16:00:00           98.75          53.82               28.6   \n",
       "2018-12-31 17:00:00           98.75          53.82               28.6   \n",
       "2018-12-31 18:00:00           98.75          53.82               28.6   \n",
       "\n",
       "                     natural gas Price_167  GBP/mWh_168  temperature_168  \\\n",
       "datetime                                                                   \n",
       "2018-12-31 14:00:00                  3.816        57.80            46.43   \n",
       "2018-12-31 15:00:00                  3.816        67.95            46.30   \n",
       "2018-12-31 16:00:00                  3.816        86.00            43.20   \n",
       "2018-12-31 17:00:00                  3.816        99.00            40.75   \n",
       "2018-12-31 18:00:00                  3.816        80.00            38.67   \n",
       "\n",
       "                     coal Price_168  oil Price_168  uranium Price_168  \\\n",
       "datetime                                                                \n",
       "2018-12-31 14:00:00           98.75          53.82               28.6   \n",
       "2018-12-31 15:00:00           98.75          53.82               28.6   \n",
       "2018-12-31 16:00:00           98.75          53.82               28.6   \n",
       "2018-12-31 17:00:00           98.75          53.82               28.6   \n",
       "2018-12-31 18:00:00           98.75          53.82               28.6   \n",
       "\n",
       "                     natural gas Price_168  \n",
       "datetime                                    \n",
       "2018-12-31 14:00:00                  3.816  \n",
       "2018-12-31 15:00:00                  3.816  \n",
       "2018-12-31 16:00:00                  3.816  \n",
       "2018-12-31 17:00:00                  3.816  \n",
       "2018-12-31 18:00:00                  3.816  \n",
       "\n",
       "[5 rows x 870 columns]"
      ]
     },
     "execution_count": 46,
     "metadata": {},
     "output_type": "execute_result"
    }
   ],
   "source": [
    "x_test.head()"
   ]
  },
  {
   "cell_type": "code",
   "execution_count": 47,
   "metadata": {},
   "outputs": [
    {
     "data": {
      "text/plain": [
       "RandomForestRegressor(bootstrap=True, criterion='mae', max_depth=1,\n",
       "                      max_features=2, max_leaf_nodes=None,\n",
       "                      min_impurity_decrease=0.0, min_impurity_split=None,\n",
       "                      min_samples_leaf=1, min_samples_split=2,\n",
       "                      min_weight_fraction_leaf=0.0, n_estimators=10,\n",
       "                      n_jobs=None, oob_score=False, random_state=None,\n",
       "                      verbose=0, warm_start=False)"
      ]
     },
     "execution_count": 47,
     "metadata": {},
     "output_type": "execute_result"
    }
   ],
   "source": [
    "rf = RandomForestRegressor(n_estimators=10, max_features=2,\n",
    "    criterion='mae',\n",
    "    max_depth=1)\n",
    "\n",
    "    \n",
    "rf.fit(x_train, y_train)\n"
   ]
  },
  {
   "cell_type": "code",
   "execution_count": 49,
   "metadata": {},
   "outputs": [],
   "source": [
    "y_test = pd.DataFrame(y_test)"
   ]
  },
  {
   "cell_type": "code",
   "execution_count": 50,
   "metadata": {},
   "outputs": [],
   "source": [
    "y_pred = rf.predict(x_test)"
   ]
  },
  {
   "cell_type": "code",
   "execution_count": 53,
   "metadata": {},
   "outputs": [],
   "source": [
    "y_test['predictions'] = y_pred"
   ]
  },
  {
   "cell_type": "code",
   "execution_count": 65,
   "metadata": {},
   "outputs": [],
   "source": [
    "y_test['difference'] = np.abs(y_test['GBP/mWh'] - y_test['predictions'])\n",
    "y_test['% error'] = (y_test['difference']/y_test['GBP/mWh'])*100\n",
    "np.mean(y_test['% error'])"
   ]
  },
  {
   "cell_type": "code",
   "execution_count": 72,
   "metadata": {},
   "outputs": [],
   "source": [
    "y_test['% error'] = (y_test['difference']/y_test['GBP/mWh'])*100"
   ]
  },
  {
   "cell_type": "code",
   "execution_count": 73,
   "metadata": {},
   "outputs": [
    {
     "data": {
      "text/html": [
       "<div>\n",
       "<style scoped>\n",
       "    .dataframe tbody tr th:only-of-type {\n",
       "        vertical-align: middle;\n",
       "    }\n",
       "\n",
       "    .dataframe tbody tr th {\n",
       "        vertical-align: top;\n",
       "    }\n",
       "\n",
       "    .dataframe thead th {\n",
       "        text-align: right;\n",
       "    }\n",
       "</style>\n",
       "<table border=\"1\" class=\"dataframe\">\n",
       "  <thead>\n",
       "    <tr style=\"text-align: right;\">\n",
       "      <th></th>\n",
       "      <th>GBP/mWh</th>\n",
       "      <th>predictions</th>\n",
       "      <th>difference</th>\n",
       "      <th>% error</th>\n",
       "    </tr>\n",
       "    <tr>\n",
       "      <th>datetime</th>\n",
       "      <th></th>\n",
       "      <th></th>\n",
       "      <th></th>\n",
       "      <th></th>\n",
       "    </tr>\n",
       "  </thead>\n",
       "  <tbody>\n",
       "    <tr>\n",
       "      <td>2018-12-31 14:00:00</td>\n",
       "      <td>54.00</td>\n",
       "      <td>42.4215</td>\n",
       "      <td>11.5785</td>\n",
       "      <td>21.441667</td>\n",
       "    </tr>\n",
       "    <tr>\n",
       "      <td>2018-12-31 15:00:00</td>\n",
       "      <td>58.77</td>\n",
       "      <td>42.4215</td>\n",
       "      <td>16.3485</td>\n",
       "      <td>27.817764</td>\n",
       "    </tr>\n",
       "    <tr>\n",
       "      <td>2018-12-31 16:00:00</td>\n",
       "      <td>79.00</td>\n",
       "      <td>42.4215</td>\n",
       "      <td>36.5785</td>\n",
       "      <td>46.301899</td>\n",
       "    </tr>\n",
       "    <tr>\n",
       "      <td>2018-12-31 17:00:00</td>\n",
       "      <td>90.00</td>\n",
       "      <td>43.1405</td>\n",
       "      <td>46.8595</td>\n",
       "      <td>52.066111</td>\n",
       "    </tr>\n",
       "    <tr>\n",
       "      <td>2018-12-31 18:00:00</td>\n",
       "      <td>76.97</td>\n",
       "      <td>43.1405</td>\n",
       "      <td>33.8295</td>\n",
       "      <td>43.951540</td>\n",
       "    </tr>\n",
       "    <tr>\n",
       "      <td>...</td>\n",
       "      <td>...</td>\n",
       "      <td>...</td>\n",
       "      <td>...</td>\n",
       "      <td>...</td>\n",
       "    </tr>\n",
       "    <tr>\n",
       "      <td>2019-12-31 17:00:00</td>\n",
       "      <td>55.10</td>\n",
       "      <td>36.9240</td>\n",
       "      <td>18.1760</td>\n",
       "      <td>32.987296</td>\n",
       "    </tr>\n",
       "    <tr>\n",
       "      <td>2019-12-31 18:00:00</td>\n",
       "      <td>45.60</td>\n",
       "      <td>36.9240</td>\n",
       "      <td>8.6760</td>\n",
       "      <td>19.026316</td>\n",
       "    </tr>\n",
       "    <tr>\n",
       "      <td>2019-12-31 19:00:00</td>\n",
       "      <td>39.07</td>\n",
       "      <td>36.9240</td>\n",
       "      <td>2.1460</td>\n",
       "      <td>5.492705</td>\n",
       "    </tr>\n",
       "    <tr>\n",
       "      <td>2019-12-31 20:00:00</td>\n",
       "      <td>37.71</td>\n",
       "      <td>36.9240</td>\n",
       "      <td>0.7860</td>\n",
       "      <td>2.084328</td>\n",
       "    </tr>\n",
       "    <tr>\n",
       "      <td>2019-12-31 21:00:00</td>\n",
       "      <td>34.22</td>\n",
       "      <td>36.9240</td>\n",
       "      <td>2.7040</td>\n",
       "      <td>7.901812</td>\n",
       "    </tr>\n",
       "  </tbody>\n",
       "</table>\n",
       "<p>8759 rows × 4 columns</p>\n",
       "</div>"
      ],
      "text/plain": [
       "                     GBP/mWh  predictions  difference    % error\n",
       "datetime                                                        \n",
       "2018-12-31 14:00:00    54.00      42.4215     11.5785  21.441667\n",
       "2018-12-31 15:00:00    58.77      42.4215     16.3485  27.817764\n",
       "2018-12-31 16:00:00    79.00      42.4215     36.5785  46.301899\n",
       "2018-12-31 17:00:00    90.00      43.1405     46.8595  52.066111\n",
       "2018-12-31 18:00:00    76.97      43.1405     33.8295  43.951540\n",
       "...                      ...          ...         ...        ...\n",
       "2019-12-31 17:00:00    55.10      36.9240     18.1760  32.987296\n",
       "2019-12-31 18:00:00    45.60      36.9240      8.6760  19.026316\n",
       "2019-12-31 19:00:00    39.07      36.9240      2.1460   5.492705\n",
       "2019-12-31 20:00:00    37.71      36.9240      0.7860   2.084328\n",
       "2019-12-31 21:00:00    34.22      36.9240      2.7040   7.901812\n",
       "\n",
       "[8759 rows x 4 columns]"
      ]
     },
     "execution_count": 73,
     "metadata": {},
     "output_type": "execute_result"
    }
   ],
   "source": [
    "y_test"
   ]
  },
  {
   "cell_type": "code",
   "execution_count": 74,
   "metadata": {},
   "outputs": [
    {
     "data": {
      "text/plain": [
       "19.730314364966624"
      ]
     },
     "execution_count": 74,
     "metadata": {},
     "output_type": "execute_result"
    }
   ],
   "source": [
    "np.mean(y_test['% error'])"
   ]
  },
  {
   "cell_type": "code",
   "execution_count": null,
   "metadata": {},
   "outputs": [],
   "source": []
  },
  {
   "cell_type": "code",
   "execution_count": 69,
   "metadata": {},
   "outputs": [],
   "source": [
    "y_test.drop(y_test.loc[y_test['% error'] > 2000].index, inplace = True)"
   ]
  },
  {
   "cell_type": "code",
   "execution_count": 70,
   "metadata": {},
   "outputs": [
    {
     "data": {
      "text/plain": [
       "812.9533337138944"
      ]
     },
     "execution_count": 70,
     "metadata": {},
     "output_type": "execute_result"
    }
   ],
   "source": [
    "np.mean(np.abs(y_test['GBP/mWh'] - y_test['predictions']) * 100)"
   ]
  },
  {
   "cell_type": "code",
   "execution_count": 75,
   "metadata": {},
   "outputs": [
    {
     "ename": "SyntaxError",
     "evalue": "invalid syntax (<ipython-input-75-ff907f8f7b8c>, line 1)",
     "output_type": "error",
     "traceback": [
      "\u001b[0;36m  File \u001b[0;32m\"<ipython-input-75-ff907f8f7b8c>\"\u001b[0;36m, line \u001b[0;32m1\u001b[0m\n\u001b[0;31m    features =\u001b[0m\n\u001b[0m               ^\u001b[0m\n\u001b[0;31mSyntaxError\u001b[0m\u001b[0;31m:\u001b[0m invalid syntax\n"
     ]
    }
   ],
   "source": [
    "features = "
   ]
  },
  {
   "cell_type": "code",
   "execution_count": 76,
   "metadata": {},
   "outputs": [
    {
     "data": {
      "text/plain": [
       "<matplotlib.axes._subplots.AxesSubplot at 0x1a34e94a20>"
      ]
     },
     "execution_count": 76,
     "metadata": {},
     "output_type": "execute_result"
    },
    {
     "data": {
      "image/png": "[encoded data removed]",
      "text/plain": [
       "<Figure size 432x288 with 1 Axes>"
      ]
     },
     "metadata": {
      "needs_background": "light"
     },
     "output_type": "display_data"
    }
   ],
   "source": [
    "feat_importances = pd.Series(rf.feature_importances_, index=df_lagged.columns)\n",
    "feat_importances.nlargest(10).plot(kind='barh')\n"
   ]
  },
  {
   "cell_type": "code",
   "execution_count": 81,
   "metadata": {},
   "outputs": [],
   "source": [
    "from sklearn.model_selection import GridSearchCV\n",
    "# Number of trees in random forest\n",
    "# n_estimators = [int(x) for x in np.linspace(start = 200, stop = 2000, num = 10)]\n",
    "# Number of features to consider at every split\n",
    "# max_features = ['auto', 'sqrt']\n",
    "# Maximum number of levels in tree\n",
    "# max_depth = [int(x) for x in np.linspace(10, 110, num = 11)]\n",
    "# max_depth.append(None)\n",
    "# Minimum number of samples required to split a node\n",
    "# min_samples_split = [2, 5, 10]\n",
    "# Minimum number of samples required at each leaf node\n",
    "# min_samples_leaf = [1, 2, 4]\n",
    "# Method of selecting samples for training each tree\n",
    "# bootstrap = [True, False]\n",
    "# Create the random grid\n",
    "gridsearch = {'bootstrap': [True],\n",
    "     'max_depth': [10, 250],\n",
    "     'min_samples_leaf': [2, 5],\n",
    "     'n_estimators': [100, 200]}\n",
    "# print(gridsearch)\n",
    "# {'bootstrap': [True],\n",
    "#  'max_depth': [10, 50, 250,1000],\n",
    "#  'max_features': [2, 'sqrt'],\n",
    "#  'min_samples_leaf': [1, 4],\n",
    "#  'min_samples_split': [2, 5, 10],\n",
    "#  'n_estimators': [200, 1000, 2000]}"
   ]
  },
  {
   "cell_type": "code",
   "execution_count": 82,
   "metadata": {},
   "outputs": [],
   "source": [
    "rf = RandomForestRegressor()\n",
    "# Random search of parameters, using 3 fold cross validation, \n",
    "# search across 100 different combinations, and use all available cores\n",
    "rf_GridSearch = GridSearchCV(\n",
    " estimator = rf, \n",
    " param_grid = gridsearch, \n",
    " cv = 4,\n",
    " verbose=2, \n",
    " n_jobs = 1)"
   ]
  },
  {
   "cell_type": "code",
   "execution_count": null,
   "metadata": {},
   "outputs": [],
   "source": [
    "rf_GridSearch.fit(x_train, y_train)"
   ]
  },
  {
   "cell_type": "code",
   "execution_count": null,
   "metadata": {},
   "outputs": [],
   "source": [
    "print(rf_GridSearch.best_score_)\n",
    "print(rf_GridSearch.best_params_)"
   ]
  },
  {
   "cell_type": "code",
   "execution_count": 86,
   "metadata": {},
   "outputs": [
    {
     "data": {
      "text/plain": [
       "RandomForestRegressor(bootstrap=True, criterion='mae', max_depth=15,\n",
       "                      max_features=5, max_leaf_nodes=None,\n",
       "                      min_impurity_decrease=0.0, min_impurity_split=None,\n",
       "                      min_samples_leaf=1, min_samples_split=2,\n",
       "                      min_weight_fraction_leaf=0.0, n_estimators=250,\n",
       "                      n_jobs=None, oob_score=False, random_state=None,\n",
       "                      verbose=0, warm_start=False)"
      ]
     },
     "execution_count": 86,
     "metadata": {},
     "output_type": "execute_result"
    }
   ],
   "source": [
    "rf = RandomForestRegressor(n_estimators=250, max_features=5,\n",
    "    criterion='mae',\n",
    "    max_depth=15)\n",
    "\n",
    "    \n",
    "rf.fit(x_train, y_train)"
   ]
  },
  {
   "cell_type": "code",
   "execution_count": 88,
   "metadata": {},
   "outputs": [],
   "source": [
    "prediciton = rf.predict(x_test)"
   ]
  },
  {
   "cell_type": "code",
   "execution_count": 91,
   "metadata": {},
   "outputs": [],
   "source": [
    "prediciton = pd.DataFrame(prediciton)\n",
    "\n",
    "prediciton.to_csv('randomforestprediction')"
   ]
  },
  {
   "cell_type": "code",
   "execution_count": 93,
   "metadata": {},
   "outputs": [
    {
     "data": {
      "text/plain": [
       "8766"
      ]
     },
     "execution_count": 93,
     "metadata": {},
     "output_type": "execute_result"
    }
   ],
   "source": [
    "len(prediciton)"
   ]
  },
  {
   "cell_type": "code",
   "execution_count": 97,
   "metadata": {},
   "outputs": [
    {
     "data": {
      "text/plain": [
       "8766"
      ]
     },
     "execution_count": 97,
     "metadata": {},
     "output_type": "execute_result"
    }
   ],
   "source": [
    "len(x_test)"
   ]
  },
  {
   "cell_type": "code",
   "execution_count": 104,
   "metadata": {},
   "outputs": [
    {
     "data": {
      "text/plain": [
       "GBP/mWh_24               0\n",
       "temperature_24           0\n",
       "coal Price_24            0\n",
       "oil Price_24             0\n",
       "uranium Price_24         0\n",
       "                        ..\n",
       "temperature_168          0\n",
       "coal Price_168           0\n",
       "oil Price_168            0\n",
       "uranium Price_168        0\n",
       "natural gas Price_168    0\n",
       "Length: 870, dtype: int64"
      ]
     },
     "execution_count": 104,
     "metadata": {},
     "output_type": "execute_result"
    }
   ],
   "source": [
    "x_test.isna().sum()"
   ]
  },
  {
   "cell_type": "code",
   "execution_count": 109,
   "metadata": {},
   "outputs": [
    {
     "data": {
      "text/plain": [
       "datetime\n",
       "2018-12-31 14:00:00    54.00\n",
       "2018-12-31 15:00:00    58.77\n",
       "2018-12-31 16:00:00    79.00\n",
       "2018-12-31 17:00:00    90.00\n",
       "2018-12-31 18:00:00    76.97\n",
       "                       ...  \n",
       "2019-12-31 17:00:00    55.10\n",
       "2019-12-31 18:00:00    45.60\n",
       "2019-12-31 19:00:00    39.07\n",
       "2019-12-31 20:00:00    37.71\n",
       "2019-12-31 21:00:00    34.22\n",
       "Name: GBP/mWh, Length: 8766, dtype: float64"
      ]
     },
     "execution_count": 109,
     "metadata": {},
     "output_type": "execute_result"
    }
   ],
   "source": [
    "y_test"
   ]
  },
  {
   "cell_type": "code",
   "execution_count": 110,
   "metadata": {},
   "outputs": [],
   "source": [
    "prediciton['actual'] = y_test.values"
   ]
  },
  {
   "cell_type": "code",
   "execution_count": 114,
   "metadata": {},
   "outputs": [
    {
     "data": {
      "text/html": [
       "<div>\n",
       "<style scoped>\n",
       "    .dataframe tbody tr th:only-of-type {\n",
       "        vertical-align: middle;\n",
       "    }\n",
       "\n",
       "    .dataframe tbody tr th {\n",
       "        vertical-align: top;\n",
       "    }\n",
       "\n",
       "    .dataframe thead th {\n",
       "        text-align: right;\n",
       "    }\n",
       "</style>\n",
       "<table border=\"1\" class=\"dataframe\">\n",
       "  <thead>\n",
       "    <tr style=\"text-align: right;\">\n",
       "      <th></th>\n",
       "      <th>prediction</th>\n",
       "      <th>actual</th>\n",
       "    </tr>\n",
       "  </thead>\n",
       "  <tbody>\n",
       "    <tr>\n",
       "      <td>0</td>\n",
       "      <td>62.54628</td>\n",
       "      <td>54.00</td>\n",
       "    </tr>\n",
       "    <tr>\n",
       "      <td>1</td>\n",
       "      <td>60.94958</td>\n",
       "      <td>58.77</td>\n",
       "    </tr>\n",
       "    <tr>\n",
       "      <td>2</td>\n",
       "      <td>62.34566</td>\n",
       "      <td>79.00</td>\n",
       "    </tr>\n",
       "    <tr>\n",
       "      <td>3</td>\n",
       "      <td>70.90116</td>\n",
       "      <td>90.00</td>\n",
       "    </tr>\n",
       "    <tr>\n",
       "      <td>4</td>\n",
       "      <td>69.32762</td>\n",
       "      <td>76.97</td>\n",
       "    </tr>\n",
       "    <tr>\n",
       "      <td>...</td>\n",
       "      <td>...</td>\n",
       "      <td>...</td>\n",
       "    </tr>\n",
       "    <tr>\n",
       "      <td>8761</td>\n",
       "      <td>47.12780</td>\n",
       "      <td>55.10</td>\n",
       "    </tr>\n",
       "    <tr>\n",
       "      <td>8762</td>\n",
       "      <td>47.12176</td>\n",
       "      <td>45.60</td>\n",
       "    </tr>\n",
       "    <tr>\n",
       "      <td>8763</td>\n",
       "      <td>44.51508</td>\n",
       "      <td>39.07</td>\n",
       "    </tr>\n",
       "    <tr>\n",
       "      <td>8764</td>\n",
       "      <td>42.15642</td>\n",
       "      <td>37.71</td>\n",
       "    </tr>\n",
       "    <tr>\n",
       "      <td>8765</td>\n",
       "      <td>40.58736</td>\n",
       "      <td>34.22</td>\n",
       "    </tr>\n",
       "  </tbody>\n",
       "</table>\n",
       "<p>8766 rows × 2 columns</p>\n",
       "</div>"
      ],
      "text/plain": [
       "      prediction  actual\n",
       "0       62.54628   54.00\n",
       "1       60.94958   58.77\n",
       "2       62.34566   79.00\n",
       "3       70.90116   90.00\n",
       "4       69.32762   76.97\n",
       "...          ...     ...\n",
       "8761    47.12780   55.10\n",
       "8762    47.12176   45.60\n",
       "8763    44.51508   39.07\n",
       "8764    42.15642   37.71\n",
       "8765    40.58736   34.22\n",
       "\n",
       "[8766 rows x 2 columns]"
      ]
     },
     "execution_count": 114,
     "metadata": {},
     "output_type": "execute_result"
    }
   ],
   "source": [
    "prediciton"
   ]
  },
  {
   "cell_type": "code",
   "execution_count": 113,
   "metadata": {},
   "outputs": [],
   "source": [
    "prediciton.rename(columns = {0:'prediction'}, inplace = True)"
   ]
  },
  {
   "cell_type": "code",
   "execution_count": 148,
   "metadata": {},
   "outputs": [],
   "source": [
    "prediciton['difference'] = np.abs(prediciton['actual'] - prediciton['prediction'])\n",
    "prediciton['% error'] = ((prediciton['difference'] + 0.5) /(prediciton['actual'] + 0.5))*100\n",
    "# np.mean(prediciton['% error'])"
   ]
  },
  {
   "cell_type": "code",
   "execution_count": 149,
   "metadata": {},
   "outputs": [
    {
     "data": {
      "text/plain": [
       "23.115789503280187"
      ]
     },
     "execution_count": 149,
     "metadata": {},
     "output_type": "execute_result"
    }
   ],
   "source": [
    "prediciton['% error'].mean()"
   ]
  },
  {
   "cell_type": "code",
   "execution_count": 125,
   "metadata": {},
   "outputs": [],
   "source": [
    "from numpy import inf"
   ]
  },
  {
   "cell_type": "code",
   "execution_count": 132,
   "metadata": {},
   "outputs": [
    {
     "data": {
      "text/html": [
       "<div>\n",
       "<style scoped>\n",
       "    .dataframe tbody tr th:only-of-type {\n",
       "        vertical-align: middle;\n",
       "    }\n",
       "\n",
       "    .dataframe tbody tr th {\n",
       "        vertical-align: top;\n",
       "    }\n",
       "\n",
       "    .dataframe thead th {\n",
       "        text-align: right;\n",
       "    }\n",
       "</style>\n",
       "<table border=\"1\" class=\"dataframe\">\n",
       "  <thead>\n",
       "    <tr style=\"text-align: right;\">\n",
       "      <th></th>\n",
       "      <th>prediction</th>\n",
       "      <th>actual</th>\n",
       "      <th>difference</th>\n",
       "      <th>% error</th>\n",
       "    </tr>\n",
       "  </thead>\n",
       "  <tbody>\n",
       "    <tr>\n",
       "      <td>8218</td>\n",
       "      <td>36.69828</td>\n",
       "      <td>0.0</td>\n",
       "      <td>36.69828</td>\n",
       "      <td>36798.28</td>\n",
       "    </tr>\n",
       "  </tbody>\n",
       "</table>\n",
       "</div>"
      ],
      "text/plain": [
       "      prediction  actual  difference   % error\n",
       "8218    36.69828     0.0    36.69828  36798.28"
      ]
     },
     "execution_count": 132,
     "metadata": {},
     "output_type": "execute_result"
    }
   ],
   "source": [
    "prediciton.loc[prediciton['% error'] == 36798.27999999999]"
   ]
  },
  {
   "cell_type": "code",
   "execution_count": null,
   "metadata": {},
   "outputs": [],
   "source": []
  },
  {
   "cell_type": "code",
   "execution_count": 141,
   "metadata": {},
   "outputs": [
    {
     "data": {
      "text/plain": [
       "109.35813725358307"
      ]
     },
     "execution_count": 141,
     "metadata": {},
     "output_type": "execute_result"
    }
   ],
   "source": [
    "\n",
    "mape = 100 * (prediciton['difference'] / prediciton['actual'])\n",
    "accuracy = 100 - np.mean(mape[np.isfinite(mape)])\n",
    "100 - accuracy"
   ]
  },
  {
   "cell_type": "code",
   "execution_count": 142,
   "metadata": {},
   "outputs": [],
   "source": [
    "prediciton['% error'] = mape"
   ]
  },
  {
   "cell_type": "code",
   "execution_count": 153,
   "metadata": {},
   "outputs": [
    {
     "data": {
      "text/plain": [
       "109.35813725358307"
      ]
     },
     "execution_count": 153,
     "metadata": {},
     "output_type": "execute_result"
    }
   ],
   "source": [
    "np.mean(mape[np.isfinite(mape)])"
   ]
  },
  {
   "cell_type": "code",
   "execution_count": 155,
   "metadata": {},
   "outputs": [
    {
     "data": {
      "text/plain": [
       "0       15.826444\n",
       "1        3.708661\n",
       "2       21.081443\n",
       "3       21.220933\n",
       "4        9.929037\n",
       "          ...    \n",
       "8761    14.468603\n",
       "8762     3.337193\n",
       "8763    13.936729\n",
       "8764    11.791090\n",
       "8765    18.607130\n",
       "Length: 8766, dtype: float64"
      ]
     },
     "execution_count": 155,
     "metadata": {},
     "output_type": "execute_result"
    }
   ],
   "source": [
    "mape"
   ]
  },
  {
   "cell_type": "code",
   "execution_count": 156,
   "metadata": {},
   "outputs": [
    {
     "data": {
      "text/plain": [
       "109.35813725358307"
      ]
     },
     "execution_count": 156,
     "metadata": {},
     "output_type": "execute_result"
    }
   ],
   "source": [
    "mape[np.isfinite(mape)].mean()"
   ]
  },
  {
   "cell_type": "code",
   "execution_count": null,
   "metadata": {},
   "outputs": [],
   "source": []
  }
 ],
 "metadata": {
  "kernelspec": {
   "display_name": "learn-env",
   "language": "python",
   "name": "learn-env"
  },
  "language_info": {
   "codemirror_mode": {
    "name": "ipython",
    "version": 3
   },
   "file_extension": ".py",
   "mimetype": "text/x-python",
   "name": "python",
   "nbconvert_exporter": "python",
   "pygments_lexer": "ipython3",
   "version": "3.6.9"
  }
 },
 "nbformat": 4,
 "nbformat_minor": 4
}
